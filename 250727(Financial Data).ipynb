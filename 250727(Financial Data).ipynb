{
 "cells": [
  {
   "cell_type": "code",
   "execution_count": 84,
   "id": "49e8c3a8",
   "metadata": {},
   "outputs": [],
   "source": [
    "from sklearn.cluster import KMeans\n",
    "import pandas as pd\n",
    "import matplotlib.pyplot as plt"
   ]
  },
  {
   "cell_type": "code",
   "execution_count": 85,
   "id": "948e87e0",
   "metadata": {},
   "outputs": [],
   "source": [
    "df = pd.read_csv('/Users/kyle/Library/CloudStorage/OneDrive-SKKU/바탕 화면/김동겸/etc/Python/data/synthetic_personal_finance_dataset.csv')"
   ]
  },
  {
   "cell_type": "code",
   "execution_count": 86,
   "id": "e181e62b",
   "metadata": {},
   "outputs": [
    {
     "data": {
      "text/html": [
       "<div>\n",
       "<style scoped>\n",
       "    .dataframe tbody tr th:only-of-type {\n",
       "        vertical-align: middle;\n",
       "    }\n",
       "\n",
       "    .dataframe tbody tr th {\n",
       "        vertical-align: top;\n",
       "    }\n",
       "\n",
       "    .dataframe thead th {\n",
       "        text-align: right;\n",
       "    }\n",
       "</style>\n",
       "<table border=\"1\" class=\"dataframe\">\n",
       "  <thead>\n",
       "    <tr style=\"text-align: right;\">\n",
       "      <th></th>\n",
       "      <th>user_id</th>\n",
       "      <th>age</th>\n",
       "      <th>gender</th>\n",
       "      <th>education_level</th>\n",
       "      <th>employment_status</th>\n",
       "      <th>job_title</th>\n",
       "      <th>monthly_income_usd</th>\n",
       "      <th>monthly_expenses_usd</th>\n",
       "      <th>savings_usd</th>\n",
       "      <th>has_loan</th>\n",
       "      <th>loan_type</th>\n",
       "      <th>loan_amount_usd</th>\n",
       "      <th>loan_term_months</th>\n",
       "      <th>monthly_emi_usd</th>\n",
       "      <th>loan_interest_rate_pct</th>\n",
       "      <th>debt_to_income_ratio</th>\n",
       "      <th>credit_score</th>\n",
       "      <th>savings_to_income_ratio</th>\n",
       "      <th>region</th>\n",
       "      <th>record_date</th>\n",
       "    </tr>\n",
       "  </thead>\n",
       "  <tbody>\n",
       "    <tr>\n",
       "      <th>0</th>\n",
       "      <td>U00001</td>\n",
       "      <td>56</td>\n",
       "      <td>Female</td>\n",
       "      <td>High School</td>\n",
       "      <td>Self-employed</td>\n",
       "      <td>Salesperson</td>\n",
       "      <td>3531.69</td>\n",
       "      <td>1182.59</td>\n",
       "      <td>367655.03</td>\n",
       "      <td>No</td>\n",
       "      <td>NaN</td>\n",
       "      <td>0.00</td>\n",
       "      <td>0</td>\n",
       "      <td>0.00</td>\n",
       "      <td>0.00</td>\n",
       "      <td>0.00</td>\n",
       "      <td>430</td>\n",
       "      <td>8.68</td>\n",
       "      <td>Other</td>\n",
       "      <td>2024-01-09</td>\n",
       "    </tr>\n",
       "    <tr>\n",
       "      <th>1</th>\n",
       "      <td>U00002</td>\n",
       "      <td>19</td>\n",
       "      <td>Female</td>\n",
       "      <td>PhD</td>\n",
       "      <td>Employed</td>\n",
       "      <td>Salesperson</td>\n",
       "      <td>3531.73</td>\n",
       "      <td>2367.99</td>\n",
       "      <td>260869.10</td>\n",
       "      <td>Yes</td>\n",
       "      <td>Education</td>\n",
       "      <td>146323.34</td>\n",
       "      <td>36</td>\n",
       "      <td>4953.50</td>\n",
       "      <td>13.33</td>\n",
       "      <td>1.40</td>\n",
       "      <td>543</td>\n",
       "      <td>6.16</td>\n",
       "      <td>North America</td>\n",
       "      <td>2022-02-13</td>\n",
       "    </tr>\n",
       "    <tr>\n",
       "      <th>2</th>\n",
       "      <td>U00003</td>\n",
       "      <td>20</td>\n",
       "      <td>Female</td>\n",
       "      <td>Master</td>\n",
       "      <td>Employed</td>\n",
       "      <td>Teacher</td>\n",
       "      <td>2799.49</td>\n",
       "      <td>1003.91</td>\n",
       "      <td>230921.21</td>\n",
       "      <td>No</td>\n",
       "      <td>NaN</td>\n",
       "      <td>0.00</td>\n",
       "      <td>0</td>\n",
       "      <td>0.00</td>\n",
       "      <td>0.00</td>\n",
       "      <td>0.00</td>\n",
       "      <td>754</td>\n",
       "      <td>6.87</td>\n",
       "      <td>Africa</td>\n",
       "      <td>2022-05-12</td>\n",
       "    </tr>\n",
       "    <tr>\n",
       "      <th>3</th>\n",
       "      <td>U00004</td>\n",
       "      <td>25</td>\n",
       "      <td>Male</td>\n",
       "      <td>PhD</td>\n",
       "      <td>Employed</td>\n",
       "      <td>Manager</td>\n",
       "      <td>5894.88</td>\n",
       "      <td>4440.12</td>\n",
       "      <td>304815.51</td>\n",
       "      <td>Yes</td>\n",
       "      <td>Business</td>\n",
       "      <td>93242.37</td>\n",
       "      <td>24</td>\n",
       "      <td>4926.57</td>\n",
       "      <td>23.93</td>\n",
       "      <td>0.84</td>\n",
       "      <td>461</td>\n",
       "      <td>4.31</td>\n",
       "      <td>Europe</td>\n",
       "      <td>2023-10-02</td>\n",
       "    </tr>\n",
       "    <tr>\n",
       "      <th>4</th>\n",
       "      <td>U00005</td>\n",
       "      <td>53</td>\n",
       "      <td>Female</td>\n",
       "      <td>PhD</td>\n",
       "      <td>Employed</td>\n",
       "      <td>Student</td>\n",
       "      <td>5128.93</td>\n",
       "      <td>4137.61</td>\n",
       "      <td>461509.48</td>\n",
       "      <td>No</td>\n",
       "      <td>NaN</td>\n",
       "      <td>0.00</td>\n",
       "      <td>0</td>\n",
       "      <td>0.00</td>\n",
       "      <td>0.00</td>\n",
       "      <td>0.00</td>\n",
       "      <td>516</td>\n",
       "      <td>7.50</td>\n",
       "      <td>Africa</td>\n",
       "      <td>2021-08-07</td>\n",
       "    </tr>\n",
       "  </tbody>\n",
       "</table>\n",
       "</div>"
      ],
      "text/plain": [
       "  user_id  age  gender education_level employment_status    job_title  \\\n",
       "0  U00001   56  Female     High School     Self-employed  Salesperson   \n",
       "1  U00002   19  Female             PhD          Employed  Salesperson   \n",
       "2  U00003   20  Female          Master          Employed      Teacher   \n",
       "3  U00004   25    Male             PhD          Employed      Manager   \n",
       "4  U00005   53  Female             PhD          Employed      Student   \n",
       "\n",
       "   monthly_income_usd  monthly_expenses_usd  savings_usd has_loan  loan_type  \\\n",
       "0             3531.69               1182.59    367655.03       No        NaN   \n",
       "1             3531.73               2367.99    260869.10      Yes  Education   \n",
       "2             2799.49               1003.91    230921.21       No        NaN   \n",
       "3             5894.88               4440.12    304815.51      Yes   Business   \n",
       "4             5128.93               4137.61    461509.48       No        NaN   \n",
       "\n",
       "   loan_amount_usd  loan_term_months  monthly_emi_usd  loan_interest_rate_pct  \\\n",
       "0             0.00                 0             0.00                    0.00   \n",
       "1        146323.34                36          4953.50                   13.33   \n",
       "2             0.00                 0             0.00                    0.00   \n",
       "3         93242.37                24          4926.57                   23.93   \n",
       "4             0.00                 0             0.00                    0.00   \n",
       "\n",
       "   debt_to_income_ratio  credit_score  savings_to_income_ratio         region  \\\n",
       "0                  0.00           430                     8.68          Other   \n",
       "1                  1.40           543                     6.16  North America   \n",
       "2                  0.00           754                     6.87         Africa   \n",
       "3                  0.84           461                     4.31         Europe   \n",
       "4                  0.00           516                     7.50         Africa   \n",
       "\n",
       "  record_date  \n",
       "0  2024-01-09  \n",
       "1  2022-02-13  \n",
       "2  2022-05-12  \n",
       "3  2023-10-02  \n",
       "4  2021-08-07  "
      ]
     },
     "execution_count": 86,
     "metadata": {},
     "output_type": "execute_result"
    }
   ],
   "source": [
    "df.head()"
   ]
  },
  {
   "cell_type": "code",
   "execution_count": 31,
   "id": "34365b23",
   "metadata": {},
   "outputs": [
    {
     "data": {
      "text/plain": [
       "Index(['user_id', 'age', 'gender', 'education_level', 'employment_status',\n",
       "       'job_title', 'monthly_income_usd', 'monthly_expenses_usd',\n",
       "       'savings_usd', 'has_loan', 'loan_type', 'loan_amount_usd',\n",
       "       'loan_term_months', 'monthly_emi_usd', 'loan_interest_rate_pct',\n",
       "       'debt_to_income_ratio', 'credit_score', 'savings_to_income_ratio',\n",
       "       'region', 'record_date'],\n",
       "      dtype='object')"
      ]
     },
     "execution_count": 31,
     "metadata": {},
     "output_type": "execute_result"
    }
   ],
   "source": [
    "df.columns"
   ]
  },
  {
   "cell_type": "code",
   "execution_count": 7,
   "id": "d6a50629",
   "metadata": {},
   "outputs": [
    {
     "name": "stdout",
     "output_type": "stream",
     "text": [
      "<class 'pandas.core.frame.DataFrame'>\n",
      "RangeIndex: 32424 entries, 0 to 32423\n",
      "Data columns (total 20 columns):\n",
      " #   Column                   Non-Null Count  Dtype  \n",
      "---  ------                   --------------  -----  \n",
      " 0   user_id                  32424 non-null  object \n",
      " 1   age                      32424 non-null  int64  \n",
      " 2   gender                   32424 non-null  object \n",
      " 3   education_level          32424 non-null  object \n",
      " 4   employment_status        32424 non-null  object \n",
      " 5   job_title                32424 non-null  object \n",
      " 6   monthly_income_usd       32424 non-null  float64\n",
      " 7   monthly_expenses_usd     32424 non-null  float64\n",
      " 8   savings_usd              32424 non-null  float64\n",
      " 9   has_loan                 32424 non-null  object \n",
      " 10  loan_type                12995 non-null  object \n",
      " 11  loan_amount_usd          32424 non-null  float64\n",
      " 12  loan_term_months         32424 non-null  int64  \n",
      " 13  monthly_emi_usd          32424 non-null  float64\n",
      " 14  loan_interest_rate_pct   32424 non-null  float64\n",
      " 15  debt_to_income_ratio     32424 non-null  float64\n",
      " 16  credit_score             32424 non-null  int64  \n",
      " 17  savings_to_income_ratio  32424 non-null  float64\n",
      " 18  region                   32424 non-null  object \n",
      " 19  record_date              32424 non-null  object \n",
      "dtypes: float64(8), int64(3), object(9)\n",
      "memory usage: 4.9+ MB\n"
     ]
    }
   ],
   "source": [
    "df.info()"
   ]
  },
  {
   "cell_type": "code",
   "execution_count": 8,
   "id": "6cf9ecdd",
   "metadata": {},
   "outputs": [
    {
     "data": {
      "text/plain": [
       "<BarContainer object of 5 artists>"
      ]
     },
     "execution_count": 8,
     "metadata": {},
     "output_type": "execute_result"
    },
    {
     "data": {
      "image/png": "[encoded data removed]",
      "text/plain": [
       "<Figure size 640x480 with 1 Axes>"
      ]
     },
     "metadata": {},
     "output_type": "display_data"
    }
   ],
   "source": [
    "education_level_values_counts = df['education_level'].value_counts()\n",
    "education_level_values = education_level_values_counts.index\n",
    "plt.bar(education_level_values, education_level_values_counts)"
   ]
  },
  {
   "cell_type": "code",
   "execution_count": 9,
   "id": "7fd5e98a",
   "metadata": {},
   "outputs": [
    {
     "data": {
      "text/plain": [
       "([0, 1, 2, 3, 4, 5, 6, 7, 8],\n",
       " [Text(0, 0, 'Driver'),\n",
       "  Text(1, 0, 'Teacher'),\n",
       "  Text(2, 0, 'Manager'),\n",
       "  Text(3, 0, 'Student'),\n",
       "  Text(4, 0, 'Unemployed'),\n",
       "  Text(5, 0, 'Accountant'),\n",
       "  Text(6, 0, 'Salesperson'),\n",
       "  Text(7, 0, 'Doctor'),\n",
       "  Text(8, 0, 'Engineer')])"
      ]
     },
     "execution_count": 9,
     "metadata": {},
     "output_type": "execute_result"
    },
    {
     "data": {
      "image/png": "[encoded data removed]",
      "text/plain": [
       "<Figure size 640x480 with 1 Axes>"
      ]
     },
     "metadata": {},
     "output_type": "display_data"
    }
   ],
   "source": [
    "job_title_values_counts = df['job_title'].value_counts()\n",
    "job_title_values = job_title_values_counts.index\n",
    "plt.bar(job_title_values, job_title_values_counts)\n",
    "plt.xticks(rotation=45)"
   ]
  },
  {
   "cell_type": "code",
   "execution_count": 10,
   "id": "20a287b9",
   "metadata": {},
   "outputs": [
    {
     "data": {
      "text/plain": [
       "<BarContainer object of 2 artists>"
      ]
     },
     "execution_count": 10,
     "metadata": {},
     "output_type": "execute_result"
    },
    {
     "data": {
      "image/png": "[encoded data removed]",
      "text/plain": [
       "<Figure size 640x480 with 1 Axes>"
      ]
     },
     "metadata": {},
     "output_type": "display_data"
    }
   ],
   "source": [
    "has_loan_values_counts = df['has_loan'].value_counts()\n",
    "has_loan_values = has_loan_values_counts.index\n",
    "plt.bar(has_loan_values, has_loan_values_counts)"
   ]
  },
  {
   "cell_type": "code",
   "execution_count": 11,
   "id": "590e222e",
   "metadata": {},
   "outputs": [
    {
     "data": {
      "text/plain": [
       "<BarContainer object of 5 artists>"
      ]
     },
     "execution_count": 11,
     "metadata": {},
     "output_type": "execute_result"
    },
    {
     "data": {
      "image/png": "[encoded data removed]",
      "text/plain": [
       "<Figure size 640x480 with 1 Axes>"
      ]
     },
     "metadata": {},
     "output_type": "display_data"
    }
   ],
   "source": [
    "region_values_counts = df['region'].value_counts()\n",
    "region_values = region_values_counts.index\n",
    "plt.bar(region_values, region_values_counts)"
   ]
  },
  {
   "cell_type": "code",
   "execution_count": null,
   "id": "ac4dd854",
   "metadata": {},
   "outputs": [],
   "source": [
    "# credit_score, monthly_income, dti 등으로 위험도가 비슷한 집단끼리 군집화"
   ]
  },
  {
   "cell_type": "code",
   "execution_count": 50,
   "id": "e35b9b15",
   "metadata": {},
   "outputs": [],
   "source": [
    "from sklearn.preprocessing import MinMaxScaler"
   ]
  },
  {
   "cell_type": "code",
   "execution_count": null,
   "id": "299d9a95",
   "metadata": {},
   "outputs": [],
   "source": [
    "# 정규화\n",
    "columns = ['monthly_income_usd', 'debt_to_income_ratio', 'credit_score']\n",
    "\n",
    "scaler = MinMaxScaler()\n",
    "df_scaled = scaler.fit_transform(df[columns])\n",
    "df_scaled = pd.DataFrame(df_scaled, columns=columns)"
   ]
  },
  {
   "cell_type": "code",
   "execution_count": 8,
   "id": "bfb621a6",
   "metadata": {},
   "outputs": [
    {
     "data": {
      "text/plain": [
       "[<matplotlib.lines.Line2D at 0x13d03b250>]"
      ]
     },
     "execution_count": 8,
     "metadata": {},
     "output_type": "execute_result"
    },
    {
     "data": {
      "image/png": "[encoded data removed]",
      "text/plain": [
       "<Figure size 640x480 with 1 Axes>"
      ]
     },
     "metadata": {},
     "output_type": "display_data"
    }
   ],
   "source": [
    "# Elbow method\n",
    "inertia = []\n",
    "for i in range(1, 10):\n",
    "    kmeans = KMeans(n_clusters=i, random_state=100)\n",
    "    kmeans.fit(df_scaled)\n",
    "    inertia.append(kmeans.inertia_)\n",
    "\n",
    "plt.plot(range(1, 10), inertia, marker='o')"
   ]
  },
  {
   "cell_type": "code",
   "execution_count": 15,
   "id": "ad64fb27",
   "metadata": {},
   "outputs": [
    {
     "data": {
      "text/html": [
       "<div>\n",
       "<style scoped>\n",
       "    .dataframe tbody tr th:only-of-type {\n",
       "        vertical-align: middle;\n",
       "    }\n",
       "\n",
       "    .dataframe tbody tr th {\n",
       "        vertical-align: top;\n",
       "    }\n",
       "\n",
       "    .dataframe thead th {\n",
       "        text-align: right;\n",
       "    }\n",
       "</style>\n",
       "<table border=\"1\" class=\"dataframe\">\n",
       "  <thead>\n",
       "    <tr style=\"text-align: right;\">\n",
       "      <th></th>\n",
       "      <th>user_id</th>\n",
       "      <th>Segment</th>\n",
       "    </tr>\n",
       "  </thead>\n",
       "  <tbody>\n",
       "    <tr>\n",
       "      <th>0</th>\n",
       "      <td>U00001</td>\n",
       "      <td>1</td>\n",
       "    </tr>\n",
       "    <tr>\n",
       "      <th>1</th>\n",
       "      <td>U00002</td>\n",
       "      <td>3</td>\n",
       "    </tr>\n",
       "    <tr>\n",
       "      <th>2</th>\n",
       "      <td>U00003</td>\n",
       "      <td>0</td>\n",
       "    </tr>\n",
       "    <tr>\n",
       "      <th>3</th>\n",
       "      <td>U00004</td>\n",
       "      <td>2</td>\n",
       "    </tr>\n",
       "    <tr>\n",
       "      <th>4</th>\n",
       "      <td>U00005</td>\n",
       "      <td>3</td>\n",
       "    </tr>\n",
       "  </tbody>\n",
       "</table>\n",
       "</div>"
      ],
      "text/plain": [
       "  user_id  Segment\n",
       "0  U00001        1\n",
       "1  U00002        3\n",
       "2  U00003        0\n",
       "3  U00004        2\n",
       "4  U00005        3"
      ]
     },
     "execution_count": 15,
     "metadata": {},
     "output_type": "execute_result"
    }
   ],
   "source": [
    "# KMeans clustering\n",
    "n_clusters = 4\n",
    "kmeans = KMeans(n_clusters=n_clusters, random_state=100)\n",
    "df['Segment'] = kmeans.fit_predict(df_scaled)\n",
    "\n",
    "df[['user_id', 'Segment']].head()"
   ]
  },
  {
   "cell_type": "code",
   "execution_count": 19,
   "id": "aed9db29",
   "metadata": {},
   "outputs": [
    {
     "data": {
      "text/html": [
       "<div>\n",
       "<style scoped>\n",
       "    .dataframe tbody tr th:only-of-type {\n",
       "        vertical-align: middle;\n",
       "    }\n",
       "\n",
       "    .dataframe tbody tr th {\n",
       "        vertical-align: top;\n",
       "    }\n",
       "\n",
       "    .dataframe thead th {\n",
       "        text-align: right;\n",
       "    }\n",
       "</style>\n",
       "<table border=\"1\" class=\"dataframe\">\n",
       "  <thead>\n",
       "    <tr style=\"text-align: right;\">\n",
       "      <th></th>\n",
       "      <th>monthly_income_usd</th>\n",
       "      <th>debt_to_income_ratio</th>\n",
       "      <th>credit_score</th>\n",
       "    </tr>\n",
       "    <tr>\n",
       "      <th>Segment</th>\n",
       "      <th></th>\n",
       "      <th></th>\n",
       "      <th></th>\n",
       "    </tr>\n",
       "  </thead>\n",
       "  <tbody>\n",
       "    <tr>\n",
       "      <th>0</th>\n",
       "      <td>4021.653169</td>\n",
       "      <td>1.247857</td>\n",
       "      <td>767.103010</td>\n",
       "    </tr>\n",
       "    <tr>\n",
       "      <th>1</th>\n",
       "      <td>2403.286201</td>\n",
       "      <td>1.867595</td>\n",
       "      <td>410.859988</td>\n",
       "    </tr>\n",
       "    <tr>\n",
       "      <th>2</th>\n",
       "      <td>5739.862396</td>\n",
       "      <td>0.547065</td>\n",
       "      <td>409.027168</td>\n",
       "    </tr>\n",
       "    <tr>\n",
       "      <th>3</th>\n",
       "      <td>4010.150806</td>\n",
       "      <td>1.111526</td>\n",
       "      <td>599.826123</td>\n",
       "    </tr>\n",
       "  </tbody>\n",
       "</table>\n",
       "</div>"
      ],
      "text/plain": [
       "         monthly_income_usd  debt_to_income_ratio  credit_score\n",
       "Segment                                                        \n",
       "0               4021.653169              1.247857    767.103010\n",
       "1               2403.286201              1.867595    410.859988\n",
       "2               5739.862396              0.547065    409.027168\n",
       "3               4010.150806              1.111526    599.826123"
      ]
     },
     "execution_count": 19,
     "metadata": {},
     "output_type": "execute_result"
    }
   ],
   "source": [
    "# Segment별 평균값 -> Segment별로 위험도 분석\n",
    "df.groupby('Segment')[['monthly_income_usd', 'debt_to_income_ratio', 'credit_score']].mean()"
   ]
  },
  {
   "cell_type": "code",
   "execution_count": null,
   "id": "bdbf5700",
   "metadata": {},
   "outputs": [],
   "source": [
    "# 랜덤포레스트로 loan_amount_usd 예측"
   ]
  },
  {
   "cell_type": "code",
   "execution_count": 51,
   "id": "048ca8b8",
   "metadata": {},
   "outputs": [],
   "source": [
    "import pandas as pd\n",
    "import matplotlib.pyplot as plt\n",
    "from sklearn.model_selection import train_test_split\n",
    "from sklearn.preprocessing import StandardScaler\n",
    "from sklearn.ensemble import RandomForestRegressor\n",
    "from sklearn.metrics import mean_squared_error, r2_score"
   ]
  },
  {
   "cell_type": "code",
   "execution_count": 34,
   "id": "07b8ba1a",
   "metadata": {},
   "outputs": [],
   "source": [
    "# 데이터 준비\n",
    "X = df[['monthly_income_usd', 'debt_to_income_ratio', 'credit_score']]\n",
    "y = df['loan_amount_usd']"
   ]
  },
  {
   "cell_type": "code",
   "execution_count": 38,
   "id": "a6da0857",
   "metadata": {},
   "outputs": [],
   "source": [
    "# 데이터 표준화\n",
    "scaler = StandardScaler()\n",
    "X_scaled = scaler.fit_transform(X)"
   ]
  },
  {
   "cell_type": "code",
   "execution_count": 39,
   "id": "5183bb0e",
   "metadata": {},
   "outputs": [],
   "source": [
    "# 학습/테스트 분리\n",
    "X_train, X_test, y_train, y_test = train_test_split(X_scaled, y, test_size=0.3, random_state=100)\n"
   ]
  },
  {
   "cell_type": "code",
   "execution_count": 40,
   "id": "abcf3d9f",
   "metadata": {},
   "outputs": [],
   "source": [
    "# 모델 학습 및 예측\n",
    "model = RandomForestRegressor(n_estimators=100, random_state=100)\n",
    "model.fit(X_train, y_train)\n",
    "y_pred = model.predict(X_test)"
   ]
  },
  {
   "cell_type": "code",
   "execution_count": 41,
   "id": "7c3c9f8b",
   "metadata": {},
   "outputs": [
    {
     "name": "stdout",
     "output_type": "stream",
     "text": [
      "MSE: 4683726441.013693\n",
      "R^2: 0.8009066804076057\n"
     ]
    }
   ],
   "source": [
    "# 평가 지표\n",
    "print(\"MSE:\", mean_squared_error(y_test, y_pred))\n",
    "print(\"R^2:\", r2_score(y_test, y_pred))"
   ]
  },
  {
   "cell_type": "code",
   "execution_count": 43,
   "id": "d991c11b",
   "metadata": {},
   "outputs": [],
   "source": [
    "df['estimated_loan_amounts'] = model.predict(X_scaled)"
   ]
  },
  {
   "cell_type": "code",
   "execution_count": 46,
   "id": "0abaf791",
   "metadata": {},
   "outputs": [
    {
     "data": {
      "text/html": [
       "<div>\n",
       "<style scoped>\n",
       "    .dataframe tbody tr th:only-of-type {\n",
       "        vertical-align: middle;\n",
       "    }\n",
       "\n",
       "    .dataframe tbody tr th {\n",
       "        vertical-align: top;\n",
       "    }\n",
       "\n",
       "    .dataframe thead th {\n",
       "        text-align: right;\n",
       "    }\n",
       "</style>\n",
       "<table border=\"1\" class=\"dataframe\">\n",
       "  <thead>\n",
       "    <tr style=\"text-align: right;\">\n",
       "      <th></th>\n",
       "      <th>loan_amount_usd</th>\n",
       "      <th>estimated_loan_amounts</th>\n",
       "    </tr>\n",
       "  </thead>\n",
       "  <tbody>\n",
       "    <tr>\n",
       "      <th>0</th>\n",
       "      <td>0.00</td>\n",
       "      <td>0.0000</td>\n",
       "    </tr>\n",
       "    <tr>\n",
       "      <th>1</th>\n",
       "      <td>146323.34</td>\n",
       "      <td>197920.4550</td>\n",
       "    </tr>\n",
       "    <tr>\n",
       "      <th>2</th>\n",
       "      <td>0.00</td>\n",
       "      <td>0.0000</td>\n",
       "    </tr>\n",
       "    <tr>\n",
       "      <th>3</th>\n",
       "      <td>93242.37</td>\n",
       "      <td>253160.7698</td>\n",
       "    </tr>\n",
       "    <tr>\n",
       "      <th>4</th>\n",
       "      <td>0.00</td>\n",
       "      <td>0.0000</td>\n",
       "    </tr>\n",
       "    <tr>\n",
       "      <th>5</th>\n",
       "      <td>407915.25</td>\n",
       "      <td>402992.0130</td>\n",
       "    </tr>\n",
       "    <tr>\n",
       "      <th>6</th>\n",
       "      <td>296057.60</td>\n",
       "      <td>328936.1797</td>\n",
       "    </tr>\n",
       "    <tr>\n",
       "      <th>7</th>\n",
       "      <td>0.00</td>\n",
       "      <td>0.0000</td>\n",
       "    </tr>\n",
       "    <tr>\n",
       "      <th>8</th>\n",
       "      <td>0.00</td>\n",
       "      <td>0.0000</td>\n",
       "    </tr>\n",
       "    <tr>\n",
       "      <th>9</th>\n",
       "      <td>324197.37</td>\n",
       "      <td>304219.8925</td>\n",
       "    </tr>\n",
       "  </tbody>\n",
       "</table>\n",
       "</div>"
      ],
      "text/plain": [
       "   loan_amount_usd  estimated_loan_amounts\n",
       "0             0.00                  0.0000\n",
       "1        146323.34             197920.4550\n",
       "2             0.00                  0.0000\n",
       "3         93242.37             253160.7698\n",
       "4             0.00                  0.0000\n",
       "5        407915.25             402992.0130\n",
       "6        296057.60             328936.1797\n",
       "7             0.00                  0.0000\n",
       "8             0.00                  0.0000\n",
       "9        324197.37             304219.8925"
      ]
     },
     "execution_count": 46,
     "metadata": {},
     "output_type": "execute_result"
    }
   ],
   "source": [
    "df[['loan_amount_usd', 'estimated_loan_amounts']].head(10)"
   ]
  },
  {
   "cell_type": "code",
   "execution_count": null,
   "id": "d11dbac0",
   "metadata": {},
   "outputs": [],
   "source": [
    "# 랜덤포레스트로 credit_score 예측"
   ]
  },
  {
   "cell_type": "code",
   "execution_count": 52,
   "id": "76c41676",
   "metadata": {},
   "outputs": [],
   "source": [
    "X = df[['monthly_income_usd', 'debt_to_income_ratio', 'loan_amount_usd']]\n",
    "y = df['credit_score']"
   ]
  },
  {
   "cell_type": "code",
   "execution_count": 53,
   "id": "5f1fa5d7",
   "metadata": {},
   "outputs": [],
   "source": [
    "# 데이터 표준화\n",
    "scaler = StandardScaler()\n",
    "X_scaled = scaler.fit_transform(X)\n"
   ]
  },
  {
   "cell_type": "code",
   "execution_count": 54,
   "id": "e411b942",
   "metadata": {},
   "outputs": [],
   "source": [
    "# 학습/테스트 데이터 분리\n",
    "X_train, X_test, y_train, y_test = train_test_split(X_scaled, y, test_size=0.3, random_state=100)\n"
   ]
  },
  {
   "cell_type": "code",
   "execution_count": 55,
   "id": "30f678d1",
   "metadata": {},
   "outputs": [],
   "source": [
    "# 모델 학습 및 예측\n",
    "rf = RandomForestRegressor(n_estimators=200, random_state=100)\n",
    "rf.fit(X_train, y_train)\n",
    "y_pred = rf.predict(X_test)"
   ]
  },
  {
   "cell_type": "code",
   "execution_count": 57,
   "id": "73e741ec",
   "metadata": {},
   "outputs": [
    {
     "name": "stdout",
     "output_type": "stream",
     "text": [
      "MSE: 33038.51813575593\n",
      "R^2: -0.31816746520466266\n"
     ]
    }
   ],
   "source": [
    "# 평가 지표\n",
    "mse = mean_squared_error(y_test, y_pred)\n",
    "r2 = r2_score(y_test, y_pred)\n",
    "print(\"MSE:\", mse)\n",
    "print(\"R^2:\", r2)"
   ]
  },
  {
   "cell_type": "code",
   "execution_count": 59,
   "id": "f2f7164a",
   "metadata": {},
   "outputs": [
    {
     "data": {
      "text/html": [
       "<div>\n",
       "<style scoped>\n",
       "    .dataframe tbody tr th:only-of-type {\n",
       "        vertical-align: middle;\n",
       "    }\n",
       "\n",
       "    .dataframe tbody tr th {\n",
       "        vertical-align: top;\n",
       "    }\n",
       "\n",
       "    .dataframe thead th {\n",
       "        text-align: right;\n",
       "    }\n",
       "</style>\n",
       "<table border=\"1\" class=\"dataframe\">\n",
       "  <thead>\n",
       "    <tr style=\"text-align: right;\">\n",
       "      <th></th>\n",
       "      <th>credit_score</th>\n",
       "      <th>estimated_credit_score</th>\n",
       "    </tr>\n",
       "  </thead>\n",
       "  <tbody>\n",
       "    <tr>\n",
       "      <th>0</th>\n",
       "      <td>430</td>\n",
       "      <td>533.990</td>\n",
       "    </tr>\n",
       "    <tr>\n",
       "      <th>1</th>\n",
       "      <td>543</td>\n",
       "      <td>568.350</td>\n",
       "    </tr>\n",
       "    <tr>\n",
       "      <th>2</th>\n",
       "      <td>754</td>\n",
       "      <td>744.395</td>\n",
       "    </tr>\n",
       "    <tr>\n",
       "      <th>3</th>\n",
       "      <td>461</td>\n",
       "      <td>557.350</td>\n",
       "    </tr>\n",
       "    <tr>\n",
       "      <th>4</th>\n",
       "      <td>516</td>\n",
       "      <td>581.825</td>\n",
       "    </tr>\n",
       "    <tr>\n",
       "      <th>5</th>\n",
       "      <td>718</td>\n",
       "      <td>668.055</td>\n",
       "    </tr>\n",
       "    <tr>\n",
       "      <th>6</th>\n",
       "      <td>761</td>\n",
       "      <td>660.655</td>\n",
       "    </tr>\n",
       "    <tr>\n",
       "      <th>7</th>\n",
       "      <td>540</td>\n",
       "      <td>594.375</td>\n",
       "    </tr>\n",
       "    <tr>\n",
       "      <th>8</th>\n",
       "      <td>327</td>\n",
       "      <td>530.025</td>\n",
       "    </tr>\n",
       "    <tr>\n",
       "      <th>9</th>\n",
       "      <td>558</td>\n",
       "      <td>589.335</td>\n",
       "    </tr>\n",
       "  </tbody>\n",
       "</table>\n",
       "</div>"
      ],
      "text/plain": [
       "   credit_score  estimated_credit_score\n",
       "0           430                 533.990\n",
       "1           543                 568.350\n",
       "2           754                 744.395\n",
       "3           461                 557.350\n",
       "4           516                 581.825\n",
       "5           718                 668.055\n",
       "6           761                 660.655\n",
       "7           540                 594.375\n",
       "8           327                 530.025\n",
       "9           558                 589.335"
      ]
     },
     "execution_count": 59,
     "metadata": {},
     "output_type": "execute_result"
    }
   ],
   "source": [
    "df['estimated_credit_score'] = rf.predict(X_scaled)\n",
    "df[['credit_score', 'estimated_credit_score']].head(10)"
   ]
  },
  {
   "cell_type": "code",
   "execution_count": 60,
   "id": "bb58c8a1",
   "metadata": {},
   "outputs": [],
   "source": [
    "# 상관관계 분석"
   ]
  },
  {
   "cell_type": "code",
   "execution_count": 61,
   "id": "d58f5455",
   "metadata": {},
   "outputs": [],
   "source": [
    "import pandas as pd\n",
    "import seaborn as sns\n",
    "import matplotlib.pyplot as plt"
   ]
  },
  {
   "cell_type": "code",
   "execution_count": 68,
   "id": "84bdfdf9",
   "metadata": {},
   "outputs": [
    {
     "data": {
      "image/png": "[encoded data removed]",
      "text/plain": [
       "<Figure size 800x600 with 2 Axes>"
      ]
     },
     "metadata": {},
     "output_type": "display_data"
    }
   ],
   "source": [
    "# 소득과 소비 간 상관관계: Pearson correlation\n",
    "columns1 = ['monthly_income_usd', 'monthly_expenses_usd']\n",
    "correlation1 = df[columns].corr(method='pearson')\n",
    "\n",
    "plt.figure(figsize=(8, 6))\n",
    "sns.heatmap(correlation1, annot=True, cmap='coolwarm', fmt='.2f')\n",
    "plt.title('Correlation between Monthly Income and Expenses')\n",
    "plt.show()"
   ]
  },
  {
   "cell_type": "code",
   "execution_count": null,
   "id": "af39ef23",
   "metadata": {},
   "outputs": [
    {
     "data": {
      "image/png": "[encoded data removed]",
      "text/plain": [
       "<Figure size 800x600 with 2 Axes>"
      ]
     },
     "metadata": {},
     "output_type": "display_data"
    }
   ],
   "source": [
    "# 소득, 소비, 신용도, DTI 간 상관관계: Pearson correlation\n",
    "columns2 = ['monthly_income_usd', 'monthly_expenses_usd', 'credit_score', 'debt_to_income_ratio']\n",
    "correlation2 = df[columns2].corr(method='pearson')\n",
    "\n",
    "plt.figure(figsize=(8, 6))\n",
    "sns.heatmap(correlation2, annot=True, fmt='.2f')\n",
    "plt.title('Correlation between Income, Expenses, Credit Score, DTI')\n",
    "plt.show()"
   ]
  },
  {
   "cell_type": "code",
   "execution_count": 81,
   "id": "6a7798ad",
   "metadata": {},
   "outputs": [
    {
     "name": "stderr",
     "output_type": "stream",
     "text": [
      "/var/folders/tz/m_4fr84s1g53qp6mdx_8wh1r0000gn/T/ipykernel_2749/1287594628.py:1: FutureWarning: Downcasting behavior in `replace` is deprecated and will be removed in a future version. To retain the old behavior, explicitly call `result.infer_objects(copy=False)`. To opt-in to the future behavior, set `pd.set_option('future.no_silent_downcasting', True)`\n",
      "  df['has_loan'] = df['has_loan'].replace({'Yes': 1, 'No': 0})\n"
     ]
    }
   ],
   "source": [
    "# 범주형 변수와 수치형 변수 간 상관관계 분석: Point-Biserial Correlation\n",
    "# (단, 이 때 범주형 변수는 0과 1로 변환되어야 함)\n",
    "# 빚과 신용도 간 상관관계 분석\n",
    "df['has_loan'] = df['has_loan'].replace({'Yes': 1, 'No': 0})"
   ]
  },
  {
   "cell_type": "code",
   "execution_count": 83,
   "id": "97c2dad2",
   "metadata": {},
   "outputs": [
    {
     "name": "stdout",
     "output_type": "stream",
     "text": [
      "Point Biserial Correlation: 0.00873039810903094, p-value: 0.11594523405087793\n"
     ]
    }
   ],
   "source": [
    "from scipy.stats import pointbiserialr\n",
    "r, p = pointbiserialr(df['has_loan'], df['credit_score'])\n",
    "print(f\"Point Biserial Correlation: {r}, p-value: {p}\")"
   ]
  },
  {
   "cell_type": "code",
   "execution_count": null,
   "id": "6ef99a61",
   "metadata": {},
   "outputs": [],
   "source": []
  }
 ],
 "metadata": {
  "kernelspec": {
   "display_name": "Python 3",
   "language": "python",
   "name": "python3"
  },
  "language_info": {
   "codemirror_mode": {
    "name": "ipython",
    "version": 3
   },
   "file_extension": ".py",
   "mimetype": "text/x-python",
   "name": "python",
   "nbconvert_exporter": "python",
   "pygments_lexer": "ipython3",
   "version": "3.13.5"
  }
 },
 "nbformat": 4,
 "nbformat_minor": 5
}
